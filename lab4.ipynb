{
 "cells": [
  {
   "cell_type": "code",
   "execution_count": 1,
   "id": "4efe726b",
   "metadata": {},
   "outputs": [],
   "source": [
    "import numpy as np\n",
    "import pandas as pd\n",
    "\n",
    "\n",
    "import otter\n",
    "grader = otter.Notebook()"
   ]
  },
  {
   "cell_type": "markdown",
   "id": "4a6456e4",
   "metadata": {},
   "source": [
    "## Lab 4: Keep going in `pandas`\n",
    "\n",
    "This lab is for more practice using `pandas`. Below are some functions you may find useful for these exercises. \n",
    "\n",
    "[pd.Series.value_counts](https://pandas.pydata.org/docs/reference/api/pandas.Series.value_counts.html)\n",
    "\n",
    "[pd.DataFrame.groupby](https://pandas.pydata.org/docs/reference/api/pandas.DataFrame.groupby.html)\n",
    "\n",
    "[pd.crosstab](https://pandas.pydata.org/docs/reference/api/pandas.crosstab.html)\n",
    "\n",
    "[pd.DataFrame.sort_values](https://pandas.pydata.org/docs/reference/api/pandas.DataFrame.sort_values.html)"
   ]
  },
  {
   "cell_type": "markdown",
   "id": "4fed7576",
   "metadata": {},
   "source": [
    "We will be summarizing and manipulating information coming from a history of weather conditions. "
   ]
  },
  {
   "cell_type": "code",
   "execution_count": 2,
   "id": "d7a93949",
   "metadata": {},
   "outputs": [
    {
     "data": {
      "text/html": [
       "<div>\n",
       "<style scoped>\n",
       "    .dataframe tbody tr th:only-of-type {\n",
       "        vertical-align: middle;\n",
       "    }\n",
       "\n",
       "    .dataframe tbody tr th {\n",
       "        vertical-align: top;\n",
       "    }\n",
       "\n",
       "    .dataframe thead th {\n",
       "        text-align: right;\n",
       "    }\n",
       "</style>\n",
       "<table border=\"1\" class=\"dataframe\">\n",
       "  <thead>\n",
       "    <tr style=\"text-align: right;\">\n",
       "      <th></th>\n",
       "      <th>Formatted Date</th>\n",
       "      <th>Summary</th>\n",
       "      <th>Precip Type</th>\n",
       "      <th>Temperature (C)</th>\n",
       "      <th>Apparent Temperature (C)</th>\n",
       "      <th>Humidity</th>\n",
       "      <th>Wind Speed (km/h)</th>\n",
       "      <th>Wind Bearing (degrees)</th>\n",
       "      <th>Visibility (km)</th>\n",
       "      <th>Loud Cover</th>\n",
       "      <th>Pressure (millibars)</th>\n",
       "      <th>Daily Summary</th>\n",
       "    </tr>\n",
       "  </thead>\n",
       "  <tbody>\n",
       "    <tr>\n",
       "      <th>0</th>\n",
       "      <td>2006-04-01 00:00:00.000 +0200</td>\n",
       "      <td>Partly Cloudy</td>\n",
       "      <td>rain</td>\n",
       "      <td>9.472222</td>\n",
       "      <td>7.388889</td>\n",
       "      <td>0.89</td>\n",
       "      <td>14.1197</td>\n",
       "      <td>251.0</td>\n",
       "      <td>15.8263</td>\n",
       "      <td>0.0</td>\n",
       "      <td>1015.13</td>\n",
       "      <td>Partly cloudy throughout the day.</td>\n",
       "    </tr>\n",
       "    <tr>\n",
       "      <th>1</th>\n",
       "      <td>2006-04-01 01:00:00.000 +0200</td>\n",
       "      <td>Partly Cloudy</td>\n",
       "      <td>rain</td>\n",
       "      <td>9.355556</td>\n",
       "      <td>7.227778</td>\n",
       "      <td>0.86</td>\n",
       "      <td>14.2646</td>\n",
       "      <td>259.0</td>\n",
       "      <td>15.8263</td>\n",
       "      <td>0.0</td>\n",
       "      <td>1015.63</td>\n",
       "      <td>Partly cloudy throughout the day.</td>\n",
       "    </tr>\n",
       "    <tr>\n",
       "      <th>2</th>\n",
       "      <td>2006-04-01 02:00:00.000 +0200</td>\n",
       "      <td>Mostly Cloudy</td>\n",
       "      <td>rain</td>\n",
       "      <td>9.377778</td>\n",
       "      <td>9.377778</td>\n",
       "      <td>0.89</td>\n",
       "      <td>3.9284</td>\n",
       "      <td>204.0</td>\n",
       "      <td>14.9569</td>\n",
       "      <td>0.0</td>\n",
       "      <td>1015.94</td>\n",
       "      <td>Partly cloudy throughout the day.</td>\n",
       "    </tr>\n",
       "    <tr>\n",
       "      <th>3</th>\n",
       "      <td>2006-04-01 03:00:00.000 +0200</td>\n",
       "      <td>Partly Cloudy</td>\n",
       "      <td>rain</td>\n",
       "      <td>8.288889</td>\n",
       "      <td>5.944444</td>\n",
       "      <td>0.83</td>\n",
       "      <td>14.1036</td>\n",
       "      <td>269.0</td>\n",
       "      <td>15.8263</td>\n",
       "      <td>0.0</td>\n",
       "      <td>1016.41</td>\n",
       "      <td>Partly cloudy throughout the day.</td>\n",
       "    </tr>\n",
       "    <tr>\n",
       "      <th>4</th>\n",
       "      <td>2006-04-01 04:00:00.000 +0200</td>\n",
       "      <td>Mostly Cloudy</td>\n",
       "      <td>rain</td>\n",
       "      <td>8.755556</td>\n",
       "      <td>6.977778</td>\n",
       "      <td>0.83</td>\n",
       "      <td>11.0446</td>\n",
       "      <td>259.0</td>\n",
       "      <td>15.8263</td>\n",
       "      <td>0.0</td>\n",
       "      <td>1016.51</td>\n",
       "      <td>Partly cloudy throughout the day.</td>\n",
       "    </tr>\n",
       "  </tbody>\n",
       "</table>\n",
       "</div>"
      ],
      "text/plain": [
       "                  Formatted Date        Summary Precip Type  Temperature (C)  \\\n",
       "0  2006-04-01 00:00:00.000 +0200  Partly Cloudy        rain         9.472222   \n",
       "1  2006-04-01 01:00:00.000 +0200  Partly Cloudy        rain         9.355556   \n",
       "2  2006-04-01 02:00:00.000 +0200  Mostly Cloudy        rain         9.377778   \n",
       "3  2006-04-01 03:00:00.000 +0200  Partly Cloudy        rain         8.288889   \n",
       "4  2006-04-01 04:00:00.000 +0200  Mostly Cloudy        rain         8.755556   \n",
       "\n",
       "   Apparent Temperature (C)  Humidity  Wind Speed (km/h)  \\\n",
       "0                  7.388889      0.89            14.1197   \n",
       "1                  7.227778      0.86            14.2646   \n",
       "2                  9.377778      0.89             3.9284   \n",
       "3                  5.944444      0.83            14.1036   \n",
       "4                  6.977778      0.83            11.0446   \n",
       "\n",
       "   Wind Bearing (degrees)  Visibility (km)  Loud Cover  Pressure (millibars)  \\\n",
       "0                   251.0          15.8263         0.0               1015.13   \n",
       "1                   259.0          15.8263         0.0               1015.63   \n",
       "2                   204.0          14.9569         0.0               1015.94   \n",
       "3                   269.0          15.8263         0.0               1016.41   \n",
       "4                   259.0          15.8263         0.0               1016.51   \n",
       "\n",
       "                       Daily Summary  \n",
       "0  Partly cloudy throughout the day.  \n",
       "1  Partly cloudy throughout the day.  \n",
       "2  Partly cloudy throughout the day.  \n",
       "3  Partly cloudy throughout the day.  \n",
       "4  Partly cloudy throughout the day.  "
      ]
     },
     "execution_count": 2,
     "metadata": {},
     "output_type": "execute_result"
    }
   ],
   "source": [
    "weather = pd.read_csv(\"weatherHistory.csv\")\n",
    "weather.head()"
   ]
  },
  {
   "cell_type": "markdown",
   "id": "4faf4516",
   "metadata": {},
   "source": [
    "#### Question 1\n",
    "\n",
    "Subset the weather data for just the `Summary`, `Temperature (C)` and `Humidity` columns."
   ]
  },
  {
   "cell_type": "code",
   "execution_count": 3,
   "id": "524c1c92",
   "metadata": {},
   "outputs": [],
   "source": [
    "weather_sub = weather [['Summary', 'Temperature (C)', 'Humidity']]"
   ]
  },
  {
   "cell_type": "code",
   "execution_count": 4,
   "id": "49cf1457",
   "metadata": {},
   "outputs": [
    {
     "data": {
      "text/html": [
       "<p><strong><pre style='display: inline;'>q1_1</pre></strong> passed! 🚀</p>"
      ],
      "text/plain": [
       "q1_1 results: All test cases passed!"
      ]
     },
     "execution_count": 4,
     "metadata": {},
     "output_type": "execute_result"
    }
   ],
   "source": [
    "grader.check(\"q1_1\")"
   ]
  },
  {
   "cell_type": "markdown",
   "id": "58b82274",
   "metadata": {},
   "source": [
    "#### Question 2\n",
    "\n",
    "How many total days in the data were \"Clear\"?"
   ]
  },
  {
   "cell_type": "code",
   "execution_count": 5,
   "id": "67f75d79",
   "metadata": {},
   "outputs": [
    {
     "data": {
      "text/plain": [
       "10890"
      ]
     },
     "execution_count": 5,
     "metadata": {},
     "output_type": "execute_result"
    }
   ],
   "source": [
    "clear_days = weather_sub['Summary'].value_counts().iloc[3]\n",
    "clear_days"
   ]
  },
  {
   "cell_type": "code",
   "execution_count": 6,
   "id": "e578c1d3",
   "metadata": {},
   "outputs": [
    {
     "data": {
      "text/html": [
       "<p><strong><pre style='display: inline;'>q1_2</pre></strong> passed! 🙌</p>"
      ],
      "text/plain": [
       "q1_2 results: All test cases passed!"
      ]
     },
     "execution_count": 6,
     "metadata": {},
     "output_type": "execute_result"
    }
   ],
   "source": [
    "grader.check(\"q1_2\")"
   ]
  },
  {
   "cell_type": "markdown",
   "id": "68a4e627",
   "metadata": {},
   "source": [
    "#### Question 3\n",
    "\n",
    "Which 5 weather conditions (\"Summary\") had the highest average temperature? Return the answer as a 5 element array."
   ]
  },
  {
   "cell_type": "code",
   "execution_count": 7,
   "id": "f7a662ac",
   "metadata": {},
   "outputs": [
    {
     "data": {
      "text/plain": [
       "array(['Dry', 'Windy and Dry', 'Dry and Mostly Cloudy',\n",
       "       'Dry and Partly Cloudy', 'Humid and Partly Cloudy'], dtype=object)"
      ]
     },
     "execution_count": 7,
     "metadata": {},
     "output_type": "execute_result"
    }
   ],
   "source": [
    "highest = weather_sub.groupby('Summary')['Temperature (C)'].mean().sort_values(ascending=False).head(5)\n",
    "hottest_conditions = highest.index.to_numpy()\n",
    "hottest_conditions"
   ]
  },
  {
   "cell_type": "code",
   "execution_count": 8,
   "id": "fa45e91c",
   "metadata": {},
   "outputs": [
    {
     "data": {
      "text/html": [
       "<p><strong><pre style='display: inline;'>q1_3</pre></strong> passed! 🌈</p>"
      ],
      "text/plain": [
       "q1_3 results: All test cases passed!"
      ]
     },
     "execution_count": 8,
     "metadata": {},
     "output_type": "execute_result"
    }
   ],
   "source": [
    "grader.check(\"q1_3\")"
   ]
  },
  {
   "cell_type": "markdown",
   "id": "41650156",
   "metadata": {},
   "source": [
    "#### Question 4\n",
    "\n",
    "Which 5 weather conditions (\"Summary\") had the highest average humidity? Return the answer as a 5 element array."
   ]
  },
  {
   "cell_type": "code",
   "execution_count": 9,
   "id": "07347b79",
   "metadata": {},
   "outputs": [
    {
     "data": {
      "text/plain": [
       "array(['Foggy', 'Rain', 'Breezy and Foggy', 'Windy and Foggy',\n",
       "       'Light Rain'], dtype=object)"
      ]
     },
     "execution_count": 9,
     "metadata": {},
     "output_type": "execute_result"
    }
   ],
   "source": [
    "humid_conditions =  weather_sub.groupby('Summary').mean('Humidity').sort_values('Humidity', ascending=False).head(5).index.to_numpy()\n",
    "humid_conditions"
   ]
  },
  {
   "cell_type": "code",
   "execution_count": 10,
   "id": "0068ef82",
   "metadata": {
    "scrolled": true
   },
   "outputs": [
    {
     "data": {
      "text/html": [
       "<p><strong><pre style='display: inline;'>q1_4</pre></strong> passed! 🚀</p>"
      ],
      "text/plain": [
       "q1_4 results: All test cases passed!"
      ]
     },
     "execution_count": 10,
     "metadata": {},
     "output_type": "execute_result"
    }
   ],
   "source": [
    "grader.check(\"q1_4\")"
   ]
  },
  {
   "cell_type": "markdown",
   "id": "0c490e7d",
   "metadata": {},
   "source": [
    "#### Question 5\n",
    "\n",
    "Add a new column to weather called `Temperature (F)` which represents the temperature in Celsius converted to Fahrenheit.\n",
    "\n",
    "$F = C*1.8 + 32$"
   ]
  },
  {
   "cell_type": "code",
   "execution_count": 11,
   "id": "b87952de",
   "metadata": {},
   "outputs": [
    {
     "data": {
      "text/html": [
       "<div>\n",
       "<style scoped>\n",
       "    .dataframe tbody tr th:only-of-type {\n",
       "        vertical-align: middle;\n",
       "    }\n",
       "\n",
       "    .dataframe tbody tr th {\n",
       "        vertical-align: top;\n",
       "    }\n",
       "\n",
       "    .dataframe thead th {\n",
       "        text-align: right;\n",
       "    }\n",
       "</style>\n",
       "<table border=\"1\" class=\"dataframe\">\n",
       "  <thead>\n",
       "    <tr style=\"text-align: right;\">\n",
       "      <th></th>\n",
       "      <th>Formatted Date</th>\n",
       "      <th>Summary</th>\n",
       "      <th>Precip Type</th>\n",
       "      <th>Temperature (C)</th>\n",
       "      <th>Apparent Temperature (C)</th>\n",
       "      <th>Humidity</th>\n",
       "      <th>Wind Speed (km/h)</th>\n",
       "      <th>Wind Bearing (degrees)</th>\n",
       "      <th>Visibility (km)</th>\n",
       "      <th>Loud Cover</th>\n",
       "      <th>Pressure (millibars)</th>\n",
       "      <th>Daily Summary</th>\n",
       "      <th>Temperature (F)</th>\n",
       "    </tr>\n",
       "  </thead>\n",
       "  <tbody>\n",
       "    <tr>\n",
       "      <th>0</th>\n",
       "      <td>2006-04-01 00:00:00.000 +0200</td>\n",
       "      <td>Partly Cloudy</td>\n",
       "      <td>rain</td>\n",
       "      <td>9.472222</td>\n",
       "      <td>7.388889</td>\n",
       "      <td>0.89</td>\n",
       "      <td>14.1197</td>\n",
       "      <td>251.0</td>\n",
       "      <td>15.8263</td>\n",
       "      <td>0.0</td>\n",
       "      <td>1015.13</td>\n",
       "      <td>Partly cloudy throughout the day.</td>\n",
       "      <td>49.05</td>\n",
       "    </tr>\n",
       "    <tr>\n",
       "      <th>1</th>\n",
       "      <td>2006-04-01 01:00:00.000 +0200</td>\n",
       "      <td>Partly Cloudy</td>\n",
       "      <td>rain</td>\n",
       "      <td>9.355556</td>\n",
       "      <td>7.227778</td>\n",
       "      <td>0.86</td>\n",
       "      <td>14.2646</td>\n",
       "      <td>259.0</td>\n",
       "      <td>15.8263</td>\n",
       "      <td>0.0</td>\n",
       "      <td>1015.63</td>\n",
       "      <td>Partly cloudy throughout the day.</td>\n",
       "      <td>48.84</td>\n",
       "    </tr>\n",
       "    <tr>\n",
       "      <th>2</th>\n",
       "      <td>2006-04-01 02:00:00.000 +0200</td>\n",
       "      <td>Mostly Cloudy</td>\n",
       "      <td>rain</td>\n",
       "      <td>9.377778</td>\n",
       "      <td>9.377778</td>\n",
       "      <td>0.89</td>\n",
       "      <td>3.9284</td>\n",
       "      <td>204.0</td>\n",
       "      <td>14.9569</td>\n",
       "      <td>0.0</td>\n",
       "      <td>1015.94</td>\n",
       "      <td>Partly cloudy throughout the day.</td>\n",
       "      <td>48.88</td>\n",
       "    </tr>\n",
       "    <tr>\n",
       "      <th>3</th>\n",
       "      <td>2006-04-01 03:00:00.000 +0200</td>\n",
       "      <td>Partly Cloudy</td>\n",
       "      <td>rain</td>\n",
       "      <td>8.288889</td>\n",
       "      <td>5.944444</td>\n",
       "      <td>0.83</td>\n",
       "      <td>14.1036</td>\n",
       "      <td>269.0</td>\n",
       "      <td>15.8263</td>\n",
       "      <td>0.0</td>\n",
       "      <td>1016.41</td>\n",
       "      <td>Partly cloudy throughout the day.</td>\n",
       "      <td>46.92</td>\n",
       "    </tr>\n",
       "    <tr>\n",
       "      <th>4</th>\n",
       "      <td>2006-04-01 04:00:00.000 +0200</td>\n",
       "      <td>Mostly Cloudy</td>\n",
       "      <td>rain</td>\n",
       "      <td>8.755556</td>\n",
       "      <td>6.977778</td>\n",
       "      <td>0.83</td>\n",
       "      <td>11.0446</td>\n",
       "      <td>259.0</td>\n",
       "      <td>15.8263</td>\n",
       "      <td>0.0</td>\n",
       "      <td>1016.51</td>\n",
       "      <td>Partly cloudy throughout the day.</td>\n",
       "      <td>47.76</td>\n",
       "    </tr>\n",
       "    <tr>\n",
       "      <th>...</th>\n",
       "      <td>...</td>\n",
       "      <td>...</td>\n",
       "      <td>...</td>\n",
       "      <td>...</td>\n",
       "      <td>...</td>\n",
       "      <td>...</td>\n",
       "      <td>...</td>\n",
       "      <td>...</td>\n",
       "      <td>...</td>\n",
       "      <td>...</td>\n",
       "      <td>...</td>\n",
       "      <td>...</td>\n",
       "      <td>...</td>\n",
       "    </tr>\n",
       "    <tr>\n",
       "      <th>96448</th>\n",
       "      <td>2016-09-09 19:00:00.000 +0200</td>\n",
       "      <td>Partly Cloudy</td>\n",
       "      <td>rain</td>\n",
       "      <td>26.016667</td>\n",
       "      <td>26.016667</td>\n",
       "      <td>0.43</td>\n",
       "      <td>10.9963</td>\n",
       "      <td>31.0</td>\n",
       "      <td>16.1000</td>\n",
       "      <td>0.0</td>\n",
       "      <td>1014.36</td>\n",
       "      <td>Partly cloudy starting in the morning.</td>\n",
       "      <td>78.83</td>\n",
       "    </tr>\n",
       "    <tr>\n",
       "      <th>96449</th>\n",
       "      <td>2016-09-09 20:00:00.000 +0200</td>\n",
       "      <td>Partly Cloudy</td>\n",
       "      <td>rain</td>\n",
       "      <td>24.583333</td>\n",
       "      <td>24.583333</td>\n",
       "      <td>0.48</td>\n",
       "      <td>10.0947</td>\n",
       "      <td>20.0</td>\n",
       "      <td>15.5526</td>\n",
       "      <td>0.0</td>\n",
       "      <td>1015.16</td>\n",
       "      <td>Partly cloudy starting in the morning.</td>\n",
       "      <td>76.25</td>\n",
       "    </tr>\n",
       "    <tr>\n",
       "      <th>96450</th>\n",
       "      <td>2016-09-09 21:00:00.000 +0200</td>\n",
       "      <td>Partly Cloudy</td>\n",
       "      <td>rain</td>\n",
       "      <td>22.038889</td>\n",
       "      <td>22.038889</td>\n",
       "      <td>0.56</td>\n",
       "      <td>8.9838</td>\n",
       "      <td>30.0</td>\n",
       "      <td>16.1000</td>\n",
       "      <td>0.0</td>\n",
       "      <td>1015.66</td>\n",
       "      <td>Partly cloudy starting in the morning.</td>\n",
       "      <td>71.67</td>\n",
       "    </tr>\n",
       "    <tr>\n",
       "      <th>96451</th>\n",
       "      <td>2016-09-09 22:00:00.000 +0200</td>\n",
       "      <td>Partly Cloudy</td>\n",
       "      <td>rain</td>\n",
       "      <td>21.522222</td>\n",
       "      <td>21.522222</td>\n",
       "      <td>0.60</td>\n",
       "      <td>10.5294</td>\n",
       "      <td>20.0</td>\n",
       "      <td>16.1000</td>\n",
       "      <td>0.0</td>\n",
       "      <td>1015.95</td>\n",
       "      <td>Partly cloudy starting in the morning.</td>\n",
       "      <td>70.74</td>\n",
       "    </tr>\n",
       "    <tr>\n",
       "      <th>96452</th>\n",
       "      <td>2016-09-09 23:00:00.000 +0200</td>\n",
       "      <td>Partly Cloudy</td>\n",
       "      <td>rain</td>\n",
       "      <td>20.438889</td>\n",
       "      <td>20.438889</td>\n",
       "      <td>0.61</td>\n",
       "      <td>5.8765</td>\n",
       "      <td>39.0</td>\n",
       "      <td>15.5204</td>\n",
       "      <td>0.0</td>\n",
       "      <td>1016.16</td>\n",
       "      <td>Partly cloudy starting in the morning.</td>\n",
       "      <td>68.79</td>\n",
       "    </tr>\n",
       "  </tbody>\n",
       "</table>\n",
       "<p>96453 rows × 13 columns</p>\n",
       "</div>"
      ],
      "text/plain": [
       "                      Formatted Date        Summary Precip Type  \\\n",
       "0      2006-04-01 00:00:00.000 +0200  Partly Cloudy        rain   \n",
       "1      2006-04-01 01:00:00.000 +0200  Partly Cloudy        rain   \n",
       "2      2006-04-01 02:00:00.000 +0200  Mostly Cloudy        rain   \n",
       "3      2006-04-01 03:00:00.000 +0200  Partly Cloudy        rain   \n",
       "4      2006-04-01 04:00:00.000 +0200  Mostly Cloudy        rain   \n",
       "...                              ...            ...         ...   \n",
       "96448  2016-09-09 19:00:00.000 +0200  Partly Cloudy        rain   \n",
       "96449  2016-09-09 20:00:00.000 +0200  Partly Cloudy        rain   \n",
       "96450  2016-09-09 21:00:00.000 +0200  Partly Cloudy        rain   \n",
       "96451  2016-09-09 22:00:00.000 +0200  Partly Cloudy        rain   \n",
       "96452  2016-09-09 23:00:00.000 +0200  Partly Cloudy        rain   \n",
       "\n",
       "       Temperature (C)  Apparent Temperature (C)  Humidity  Wind Speed (km/h)  \\\n",
       "0             9.472222                  7.388889      0.89            14.1197   \n",
       "1             9.355556                  7.227778      0.86            14.2646   \n",
       "2             9.377778                  9.377778      0.89             3.9284   \n",
       "3             8.288889                  5.944444      0.83            14.1036   \n",
       "4             8.755556                  6.977778      0.83            11.0446   \n",
       "...                ...                       ...       ...                ...   \n",
       "96448        26.016667                 26.016667      0.43            10.9963   \n",
       "96449        24.583333                 24.583333      0.48            10.0947   \n",
       "96450        22.038889                 22.038889      0.56             8.9838   \n",
       "96451        21.522222                 21.522222      0.60            10.5294   \n",
       "96452        20.438889                 20.438889      0.61             5.8765   \n",
       "\n",
       "       Wind Bearing (degrees)  Visibility (km)  Loud Cover  \\\n",
       "0                       251.0          15.8263         0.0   \n",
       "1                       259.0          15.8263         0.0   \n",
       "2                       204.0          14.9569         0.0   \n",
       "3                       269.0          15.8263         0.0   \n",
       "4                       259.0          15.8263         0.0   \n",
       "...                       ...              ...         ...   \n",
       "96448                    31.0          16.1000         0.0   \n",
       "96449                    20.0          15.5526         0.0   \n",
       "96450                    30.0          16.1000         0.0   \n",
       "96451                    20.0          16.1000         0.0   \n",
       "96452                    39.0          15.5204         0.0   \n",
       "\n",
       "       Pressure (millibars)                           Daily Summary  \\\n",
       "0                   1015.13       Partly cloudy throughout the day.   \n",
       "1                   1015.63       Partly cloudy throughout the day.   \n",
       "2                   1015.94       Partly cloudy throughout the day.   \n",
       "3                   1016.41       Partly cloudy throughout the day.   \n",
       "4                   1016.51       Partly cloudy throughout the day.   \n",
       "...                     ...                                     ...   \n",
       "96448               1014.36  Partly cloudy starting in the morning.   \n",
       "96449               1015.16  Partly cloudy starting in the morning.   \n",
       "96450               1015.66  Partly cloudy starting in the morning.   \n",
       "96451               1015.95  Partly cloudy starting in the morning.   \n",
       "96452               1016.16  Partly cloudy starting in the morning.   \n",
       "\n",
       "       Temperature (F)  \n",
       "0                49.05  \n",
       "1                48.84  \n",
       "2                48.88  \n",
       "3                46.92  \n",
       "4                47.76  \n",
       "...                ...  \n",
       "96448            78.83  \n",
       "96449            76.25  \n",
       "96450            71.67  \n",
       "96451            70.74  \n",
       "96452            68.79  \n",
       "\n",
       "[96453 rows x 13 columns]"
      ]
     },
     "execution_count": 11,
     "metadata": {},
     "output_type": "execute_result"
    }
   ],
   "source": [
    "weather[\"Temperature (F)\"] = (weather ['Temperature (C)'] * 1.8 + 32)\n",
    "weather"
   ]
  },
  {
   "cell_type": "code",
   "execution_count": 12,
   "id": "6ba60dec",
   "metadata": {},
   "outputs": [
    {
     "data": {
      "text/html": [
       "<p><strong><pre style='display: inline;'>q1_5</pre></strong> passed! 💯</p>"
      ],
      "text/plain": [
       "q1_5 results: All test cases passed!"
      ]
     },
     "execution_count": 12,
     "metadata": {},
     "output_type": "execute_result"
    }
   ],
   "source": [
    "grader.check(\"q1_5\")"
   ]
  },
  {
   "cell_type": "markdown",
   "id": "68301cde",
   "metadata": {},
   "source": [
    "#### Question 6\n",
    "\n",
    "What is the difference in average temperature (F) between rain and snow `Precip Type`?"
   ]
  },
  {
   "cell_type": "code",
   "execution_count": 13,
   "id": "3311ad8e",
   "metadata": {},
   "outputs": [
    {
     "data": {
      "text/plain": [
       "30.8229731810041"
      ]
     },
     "execution_count": 13,
     "metadata": {},
     "output_type": "execute_result"
    }
   ],
   "source": [
    "RS = weather[['Precip Type', 'Temperature (F)']].groupby('Precip Type').describe()\n",
    "temp_diff = RS.iat[0, 1] - RS.iat[1, 1]\n",
    "temp_diff"
   ]
  },
  {
   "cell_type": "code",
   "execution_count": 14,
   "id": "0d3bef63",
   "metadata": {
    "scrolled": true
   },
   "outputs": [
    {
     "data": {
      "text/html": [
       "<p><strong><pre style='display: inline;'>q1_6</pre></strong> passed! 🎉</p>"
      ],
      "text/plain": [
       "q1_6 results: All test cases passed!"
      ]
     },
     "execution_count": 14,
     "metadata": {},
     "output_type": "execute_result"
    }
   ],
   "source": [
    "grader.check(\"q1_6\")"
   ]
  },
  {
   "cell_type": "markdown",
   "id": "79d9c411",
   "metadata": {},
   "source": [
    "#### Question 7\n",
    "\n",
    "What was the lowest temperature (F) recorded in the data in snow precipitation and foggy conditions."
   ]
  },
  {
   "cell_type": "code",
   "execution_count": 15,
   "id": "226e5395",
   "metadata": {},
   "outputs": [
    {
     "data": {
      "text/plain": [
       "-7.280000000000001"
      ]
     },
     "execution_count": 15,
     "metadata": {},
     "output_type": "execute_result"
    }
   ],
   "source": [
    "lowest_temp = weather[(weather['Precip Type'] == 'snow') & (weather['Summary'] == 'Foggy')].sort_values('Temperature (F)').head(1).iat[0, 12]\n",
    "\n",
    "lowest_temp"
   ]
  },
  {
   "cell_type": "code",
   "execution_count": 16,
   "id": "e0b55be8",
   "metadata": {},
   "outputs": [
    {
     "data": {
      "text/html": [
       "<p><strong><pre style='display: inline;'>q1_7</pre></strong> passed! 🚀</p>"
      ],
      "text/plain": [
       "q1_7 results: All test cases passed!"
      ]
     },
     "execution_count": 16,
     "metadata": {},
     "output_type": "execute_result"
    }
   ],
   "source": [
    "grader.check(\"q1_7\")"
   ]
  },
  {
   "cell_type": "markdown",
   "id": "860b6b89",
   "metadata": {},
   "source": [
    "#### Question 8\n",
    "\n",
    "Create a cross-tabulation of precipitation type and weather type (Summary), returning the counts of each type of weather for each precipitation type."
   ]
  },
  {
   "cell_type": "code",
   "execution_count": 17,
   "id": "4a278525",
   "metadata": {
    "scrolled": true
   },
   "outputs": [
    {
     "data": {
      "text/html": [
       "<div>\n",
       "<style scoped>\n",
       "    .dataframe tbody tr th:only-of-type {\n",
       "        vertical-align: middle;\n",
       "    }\n",
       "\n",
       "    .dataframe tbody tr th {\n",
       "        vertical-align: top;\n",
       "    }\n",
       "\n",
       "    .dataframe thead th {\n",
       "        text-align: right;\n",
       "    }\n",
       "</style>\n",
       "<table border=\"1\" class=\"dataframe\">\n",
       "  <thead>\n",
       "    <tr style=\"text-align: right;\">\n",
       "      <th>Summary</th>\n",
       "      <th>Breezy</th>\n",
       "      <th>Breezy and Dry</th>\n",
       "      <th>Breezy and Foggy</th>\n",
       "      <th>Breezy and Mostly Cloudy</th>\n",
       "      <th>Breezy and Overcast</th>\n",
       "      <th>Breezy and Partly Cloudy</th>\n",
       "      <th>Clear</th>\n",
       "      <th>Dangerously Windy and Partly Cloudy</th>\n",
       "      <th>Drizzle</th>\n",
       "      <th>Dry</th>\n",
       "      <th>...</th>\n",
       "      <th>Mostly Cloudy</th>\n",
       "      <th>Overcast</th>\n",
       "      <th>Partly Cloudy</th>\n",
       "      <th>Rain</th>\n",
       "      <th>Windy</th>\n",
       "      <th>Windy and Dry</th>\n",
       "      <th>Windy and Foggy</th>\n",
       "      <th>Windy and Mostly Cloudy</th>\n",
       "      <th>Windy and Overcast</th>\n",
       "      <th>Windy and Partly Cloudy</th>\n",
       "    </tr>\n",
       "    <tr>\n",
       "      <th>Precip Type</th>\n",
       "      <th></th>\n",
       "      <th></th>\n",
       "      <th></th>\n",
       "      <th></th>\n",
       "      <th></th>\n",
       "      <th></th>\n",
       "      <th></th>\n",
       "      <th></th>\n",
       "      <th></th>\n",
       "      <th></th>\n",
       "      <th></th>\n",
       "      <th></th>\n",
       "      <th></th>\n",
       "      <th></th>\n",
       "      <th></th>\n",
       "      <th></th>\n",
       "      <th></th>\n",
       "      <th></th>\n",
       "      <th></th>\n",
       "      <th></th>\n",
       "      <th></th>\n",
       "    </tr>\n",
       "  </thead>\n",
       "  <tbody>\n",
       "    <tr>\n",
       "      <th>rain</th>\n",
       "      <td>42</td>\n",
       "      <td>1</td>\n",
       "      <td>8</td>\n",
       "      <td>490</td>\n",
       "      <td>472</td>\n",
       "      <td>379</td>\n",
       "      <td>9371</td>\n",
       "      <td>1</td>\n",
       "      <td>39</td>\n",
       "      <td>34</td>\n",
       "      <td>...</td>\n",
       "      <td>26028</td>\n",
       "      <td>13916</td>\n",
       "      <td>29915</td>\n",
       "      <td>10</td>\n",
       "      <td>8</td>\n",
       "      <td>1</td>\n",
       "      <td>3</td>\n",
       "      <td>35</td>\n",
       "      <td>42</td>\n",
       "      <td>67</td>\n",
       "    </tr>\n",
       "    <tr>\n",
       "      <th>snow</th>\n",
       "      <td>12</td>\n",
       "      <td>0</td>\n",
       "      <td>27</td>\n",
       "      <td>26</td>\n",
       "      <td>56</td>\n",
       "      <td>7</td>\n",
       "      <td>1392</td>\n",
       "      <td>0</td>\n",
       "      <td>0</td>\n",
       "      <td>0</td>\n",
       "      <td>...</td>\n",
       "      <td>1886</td>\n",
       "      <td>2600</td>\n",
       "      <td>1720</td>\n",
       "      <td>0</td>\n",
       "      <td>0</td>\n",
       "      <td>0</td>\n",
       "      <td>1</td>\n",
       "      <td>0</td>\n",
       "      <td>3</td>\n",
       "      <td>0</td>\n",
       "    </tr>\n",
       "  </tbody>\n",
       "</table>\n",
       "<p>2 rows × 27 columns</p>\n",
       "</div>"
      ],
      "text/plain": [
       "Summary      Breezy  Breezy and Dry  Breezy and Foggy  \\\n",
       "Precip Type                                             \n",
       "rain             42               1                 8   \n",
       "snow             12               0                27   \n",
       "\n",
       "Summary      Breezy and Mostly Cloudy  Breezy and Overcast  \\\n",
       "Precip Type                                                  \n",
       "rain                              490                  472   \n",
       "snow                               26                   56   \n",
       "\n",
       "Summary      Breezy and Partly Cloudy  Clear  \\\n",
       "Precip Type                                    \n",
       "rain                              379   9371   \n",
       "snow                                7   1392   \n",
       "\n",
       "Summary      Dangerously Windy and Partly Cloudy  Drizzle  Dry  ...  \\\n",
       "Precip Type                                                     ...   \n",
       "rain                                           1       39   34  ...   \n",
       "snow                                           0        0    0  ...   \n",
       "\n",
       "Summary      Mostly Cloudy  Overcast  Partly Cloudy  Rain  Windy  \\\n",
       "Precip Type                                                        \n",
       "rain                 26028     13916          29915    10      8   \n",
       "snow                  1886      2600           1720     0      0   \n",
       "\n",
       "Summary      Windy and Dry  Windy and Foggy  Windy and Mostly Cloudy  \\\n",
       "Precip Type                                                            \n",
       "rain                     1                3                       35   \n",
       "snow                     0                1                        0   \n",
       "\n",
       "Summary      Windy and Overcast  Windy and Partly Cloudy  \n",
       "Precip Type                                               \n",
       "rain                         42                       67  \n",
       "snow                          3                        0  \n",
       "\n",
       "[2 rows x 27 columns]"
      ]
     },
     "execution_count": 17,
     "metadata": {},
     "output_type": "execute_result"
    }
   ],
   "source": [
    "precip_tab = pd.crosstab(weather ['Precip Type'], weather ['Summary'])\n",
    "precip_tab"
   ]
  },
  {
   "cell_type": "code",
   "execution_count": 18,
   "id": "c81abb24",
   "metadata": {},
   "outputs": [
    {
     "data": {
      "text/html": [
       "<p><strong><pre style='display: inline;'>q1_8</pre></strong> passed! 🙌</p>"
      ],
      "text/plain": [
       "q1_8 results: All test cases passed!"
      ]
     },
     "execution_count": 18,
     "metadata": {},
     "output_type": "execute_result"
    }
   ],
   "source": [
    "grader.check(\"q1_8\")"
   ]
  },
  {
   "cell_type": "markdown",
   "id": "09d2342f",
   "metadata": {},
   "source": [
    "#### Question 9\n",
    "\n",
    "Which precipitation type (rain or snow), has the highest incidence of Overcast weather as a proportion of all their weather, and what is that proportion?"
   ]
  },
  {
   "cell_type": "code",
   "execution_count": 19,
   "id": "81d8f6e0",
   "metadata": {
    "scrolled": true
   },
   "outputs": [
    {
     "name": "stdout",
     "output_type": "stream",
     "text": [
      "0.16328733690040365\n",
      "0.24271844660194175\n"
     ]
    }
   ],
   "source": [
    "rain_overcast = 13916 / precip_tab.iloc[0].sum(axis=0)\n",
    "print(rain_overcast)\n",
    "snow_overcast =  2600 / precip_tab.iloc[1].sum(axis=0)\n",
    "print(snow_overcast)\n",
    "\n",
    "most_overcast = \"snow\""
   ]
  },
  {
   "cell_type": "code",
   "execution_count": 20,
   "id": "ee1c7f31",
   "metadata": {
    "scrolled": true
   },
   "outputs": [
    {
     "data": {
      "text/html": [
       "<p><strong><pre style='display: inline;'>q1_9</pre></strong> passed! 🎉</p>"
      ],
      "text/plain": [
       "q1_9 results: All test cases passed!"
      ]
     },
     "execution_count": 20,
     "metadata": {},
     "output_type": "execute_result"
    }
   ],
   "source": [
    "grader.check(\"q1_9\")"
   ]
  },
  {
   "cell_type": "markdown",
   "id": "9b2edd25",
   "metadata": {},
   "source": [
    "#### Question 10\n",
    "\n",
    "Pivot `weather_sub` such that humidity and temperature represent rows and values of summary are the columns."
   ]
  },
  {
   "cell_type": "markdown",
   "id": "e76de91b",
   "metadata": {},
   "source": [
    "[pd.DataFrame.pivot_table](https://pandas.pydata.org/docs/reference/api/pandas.pivot_table.html)"
   ]
  },
  {
   "cell_type": "code",
   "execution_count": 21,
   "id": "a0cc499d",
   "metadata": {},
   "outputs": [
    {
     "data": {
      "text/html": [
       "<div>\n",
       "<style scoped>\n",
       "    .dataframe tbody tr th:only-of-type {\n",
       "        vertical-align: middle;\n",
       "    }\n",
       "\n",
       "    .dataframe tbody tr th {\n",
       "        vertical-align: top;\n",
       "    }\n",
       "\n",
       "    .dataframe thead th {\n",
       "        text-align: right;\n",
       "    }\n",
       "</style>\n",
       "<table border=\"1\" class=\"dataframe\">\n",
       "  <thead>\n",
       "    <tr style=\"text-align: right;\">\n",
       "      <th></th>\n",
       "      <th>Summary</th>\n",
       "      <th>Temperature (C)</th>\n",
       "      <th>Humidity</th>\n",
       "    </tr>\n",
       "  </thead>\n",
       "  <tbody>\n",
       "    <tr>\n",
       "      <th>0</th>\n",
       "      <td>Partly Cloudy</td>\n",
       "      <td>9.472222</td>\n",
       "      <td>0.89</td>\n",
       "    </tr>\n",
       "    <tr>\n",
       "      <th>1</th>\n",
       "      <td>Partly Cloudy</td>\n",
       "      <td>9.355556</td>\n",
       "      <td>0.86</td>\n",
       "    </tr>\n",
       "    <tr>\n",
       "      <th>2</th>\n",
       "      <td>Mostly Cloudy</td>\n",
       "      <td>9.377778</td>\n",
       "      <td>0.89</td>\n",
       "    </tr>\n",
       "    <tr>\n",
       "      <th>3</th>\n",
       "      <td>Partly Cloudy</td>\n",
       "      <td>8.288889</td>\n",
       "      <td>0.83</td>\n",
       "    </tr>\n",
       "    <tr>\n",
       "      <th>4</th>\n",
       "      <td>Mostly Cloudy</td>\n",
       "      <td>8.755556</td>\n",
       "      <td>0.83</td>\n",
       "    </tr>\n",
       "  </tbody>\n",
       "</table>\n",
       "</div>"
      ],
      "text/plain": [
       "         Summary  Temperature (C)  Humidity\n",
       "0  Partly Cloudy         9.472222      0.89\n",
       "1  Partly Cloudy         9.355556      0.86\n",
       "2  Mostly Cloudy         9.377778      0.89\n",
       "3  Partly Cloudy         8.288889      0.83\n",
       "4  Mostly Cloudy         8.755556      0.83"
      ]
     },
     "execution_count": 21,
     "metadata": {},
     "output_type": "execute_result"
    }
   ],
   "source": [
    "weather_sub.head()"
   ]
  },
  {
   "cell_type": "code",
   "execution_count": 22,
   "id": "2c6e2fd4",
   "metadata": {},
   "outputs": [
    {
     "data": {
      "text/html": [
       "<div>\n",
       "<style scoped>\n",
       "    .dataframe tbody tr th:only-of-type {\n",
       "        vertical-align: middle;\n",
       "    }\n",
       "\n",
       "    .dataframe tbody tr th {\n",
       "        vertical-align: top;\n",
       "    }\n",
       "\n",
       "    .dataframe thead th {\n",
       "        text-align: right;\n",
       "    }\n",
       "</style>\n",
       "<table border=\"1\" class=\"dataframe\">\n",
       "  <thead>\n",
       "    <tr style=\"text-align: right;\">\n",
       "      <th>Summary</th>\n",
       "      <th>Breezy</th>\n",
       "      <th>Breezy and Dry</th>\n",
       "      <th>Breezy and Foggy</th>\n",
       "      <th>Breezy and Mostly Cloudy</th>\n",
       "      <th>Breezy and Overcast</th>\n",
       "      <th>Breezy and Partly Cloudy</th>\n",
       "      <th>Clear</th>\n",
       "      <th>Dangerously Windy and Partly Cloudy</th>\n",
       "      <th>Drizzle</th>\n",
       "      <th>Dry</th>\n",
       "      <th>...</th>\n",
       "      <th>Mostly Cloudy</th>\n",
       "      <th>Overcast</th>\n",
       "      <th>Partly Cloudy</th>\n",
       "      <th>Rain</th>\n",
       "      <th>Windy</th>\n",
       "      <th>Windy and Dry</th>\n",
       "      <th>Windy and Foggy</th>\n",
       "      <th>Windy and Mostly Cloudy</th>\n",
       "      <th>Windy and Overcast</th>\n",
       "      <th>Windy and Partly Cloudy</th>\n",
       "    </tr>\n",
       "  </thead>\n",
       "  <tbody>\n",
       "    <tr>\n",
       "      <th>Humidity</th>\n",
       "      <td>0.637778</td>\n",
       "      <td>0.260000</td>\n",
       "      <td>0.938571</td>\n",
       "      <td>0.637054</td>\n",
       "      <td>0.763144</td>\n",
       "      <td>0.545803</td>\n",
       "      <td>0.729708</td>\n",
       "      <td>0.490000</td>\n",
       "      <td>0.867949</td>\n",
       "      <td>0.230294</td>\n",
       "      <td>...</td>\n",
       "      <td>0.725069</td>\n",
       "      <td>0.837232</td>\n",
       "      <td>0.648571</td>\n",
       "      <td>0.947000</td>\n",
       "      <td>0.572500</td>\n",
       "      <td>0.240000</td>\n",
       "      <td>0.900000</td>\n",
       "      <td>0.600000</td>\n",
       "      <td>0.708667</td>\n",
       "      <td>0.528806</td>\n",
       "    </tr>\n",
       "    <tr>\n",
       "      <th>Temperature (C)</th>\n",
       "      <td>7.922016</td>\n",
       "      <td>21.111111</td>\n",
       "      <td>-0.510317</td>\n",
       "      <td>11.093411</td>\n",
       "      <td>7.241614</td>\n",
       "      <td>12.492761</td>\n",
       "      <td>11.925109</td>\n",
       "      <td>8.944444</td>\n",
       "      <td>10.847578</td>\n",
       "      <td>29.083660</td>\n",
       "      <td>...</td>\n",
       "      <td>12.629334</td>\n",
       "      <td>7.516502</td>\n",
       "      <td>16.024782</td>\n",
       "      <td>10.096111</td>\n",
       "      <td>6.804861</td>\n",
       "      <td>27.222222</td>\n",
       "      <td>11.876389</td>\n",
       "      <td>11.834603</td>\n",
       "      <td>7.932963</td>\n",
       "      <td>9.968076</td>\n",
       "    </tr>\n",
       "  </tbody>\n",
       "</table>\n",
       "<p>2 rows × 27 columns</p>\n",
       "</div>"
      ],
      "text/plain": [
       "Summary            Breezy  Breezy and Dry  Breezy and Foggy  \\\n",
       "Humidity         0.637778        0.260000          0.938571   \n",
       "Temperature (C)  7.922016       21.111111         -0.510317   \n",
       "\n",
       "Summary          Breezy and Mostly Cloudy  Breezy and Overcast  \\\n",
       "Humidity                         0.637054             0.763144   \n",
       "Temperature (C)                 11.093411             7.241614   \n",
       "\n",
       "Summary          Breezy and Partly Cloudy      Clear  \\\n",
       "Humidity                         0.545803   0.729708   \n",
       "Temperature (C)                 12.492761  11.925109   \n",
       "\n",
       "Summary          Dangerously Windy and Partly Cloudy    Drizzle        Dry  \\\n",
       "Humidity                                    0.490000   0.867949   0.230294   \n",
       "Temperature (C)                             8.944444  10.847578  29.083660   \n",
       "\n",
       "Summary          ...  Mostly Cloudy  Overcast  Partly Cloudy       Rain  \\\n",
       "Humidity         ...       0.725069  0.837232       0.648571   0.947000   \n",
       "Temperature (C)  ...      12.629334  7.516502      16.024782  10.096111   \n",
       "\n",
       "Summary             Windy  Windy and Dry  Windy and Foggy  \\\n",
       "Humidity         0.572500       0.240000         0.900000   \n",
       "Temperature (C)  6.804861      27.222222        11.876389   \n",
       "\n",
       "Summary          Windy and Mostly Cloudy  Windy and Overcast  \\\n",
       "Humidity                        0.600000            0.708667   \n",
       "Temperature (C)                11.834603            7.932963   \n",
       "\n",
       "Summary          Windy and Partly Cloudy  \n",
       "Humidity                        0.528806  \n",
       "Temperature (C)                 9.968076  \n",
       "\n",
       "[2 rows x 27 columns]"
      ]
     },
     "execution_count": 22,
     "metadata": {},
     "output_type": "execute_result"
    }
   ],
   "source": [
    "weather_sub_pivot = weather_sub.pivot_table(columns = 'Summary')\n",
    "weather_sub_pivot"
   ]
  },
  {
   "cell_type": "code",
   "execution_count": 23,
   "id": "90cf6c62",
   "metadata": {},
   "outputs": [
    {
     "data": {
      "text/html": [
       "<p><strong><pre style='display: inline;'>q1_10</pre></strong> passed! 🍀</p>"
      ],
      "text/plain": [
       "q1_10 results: All test cases passed!"
      ]
     },
     "execution_count": 23,
     "metadata": {},
     "output_type": "execute_result"
    }
   ],
   "source": [
    "grader.check(\"q1_10\")"
   ]
  },
  {
   "cell_type": "markdown",
   "id": "b5d5a4aa",
   "metadata": {},
   "source": [
    "Be sure to run the tests and verify that they all pass, then **Save** your changes, then **Download** your file to your host machine (if you are using jupyterhub), then submit your file to the Lab 4 **Canvas** assignment by 11:59pm on the due date."
   ]
  }
 ],
 "metadata": {
  "kernelspec": {
   "display_name": "Python 3 (ipykernel)",
   "language": "python",
   "name": "python3"
  },
  "language_info": {
   "codemirror_mode": {
    "name": "ipython",
    "version": 3
   },
   "file_extension": ".py",
   "mimetype": "text/x-python",
   "name": "python",
   "nbconvert_exporter": "python",
   "pygments_lexer": "ipython3",
   "version": "3.10.11"
  }
 },
 "nbformat": 4,
 "nbformat_minor": 5
}
